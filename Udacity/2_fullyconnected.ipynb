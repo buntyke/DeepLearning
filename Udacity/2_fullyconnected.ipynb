{
 "cells": [
  {
   "cell_type": "markdown",
   "metadata": {
    "colab_type": "text",
    "id": "kR-4eNdK6lYS"
   },
   "source": [
    "Deep Learning\n",
    "=============\n",
    "\n",
    "Assignment 2\n",
    "------------\n",
    "\n",
    "Previously in `1_notmnist.ipynb`, we created a pickle with formatted datasets for training, development and testing on the [notMNIST dataset](http://yaroslavvb.blogspot.com/2011/09/notmnist-dataset.html).\n",
    "\n",
    "The goal of this assignment is to progressively train deeper and more accurate models using TensorFlow."
   ]
  },
  {
   "cell_type": "code",
   "execution_count": 2,
   "metadata": {
    "cellView": "both",
    "colab": {
     "autoexec": {
      "startup": false,
      "wait_interval": 0
     }
    },
    "colab_type": "code",
    "collapsed": true,
    "id": "JLpLa8Jt7Vu4"
   },
   "outputs": [],
   "source": [
    "# These are all the modules we'll be using later. Make sure you can import them\n",
    "# before proceeding further.\n",
    "import numpy as np\n",
    "import tensorflow as tf\n",
    "from six.moves import range\n",
    "from __future__ import print_function\n",
    "from six.moves import cPickle as pickle"
   ]
  },
  {
   "cell_type": "markdown",
   "metadata": {
    "colab_type": "text",
    "id": "1HrCK6e17WzV"
   },
   "source": [
    "First reload the data we generated in `1_notmnist.ipynb`."
   ]
  },
  {
   "cell_type": "code",
   "execution_count": 3,
   "metadata": {
    "cellView": "both",
    "colab": {
     "autoexec": {
      "startup": false,
      "wait_interval": 0
     },
     "output_extras": [
      {
       "item_id": 1
      }
     ]
    },
    "colab_type": "code",
    "collapsed": false,
    "executionInfo": {
     "elapsed": 19456,
     "status": "ok",
     "timestamp": 1449847956073,
     "user": {
      "color": "",
      "displayName": "",
      "isAnonymous": false,
      "isMe": true,
      "permissionId": "",
      "photoUrl": "",
      "sessionId": "0",
      "userId": ""
     },
     "user_tz": 480
    },
    "id": "y3-cj1bpmuxc",
    "outputId": "0ddb1607-1fc4-4ddb-de28-6c7ab7fb0c33"
   },
   "outputs": [
    {
     "name": "stdout",
     "output_type": "stream",
     "text": [
      "Training set (200000, 28, 28) (200000,)\n",
      "Validation set (10000, 28, 28) (10000,)\n",
      "Test set (10000, 28, 28) (10000,)\n"
     ]
    }
   ],
   "source": [
    "pickle_file = 'notMNIST.pickle'\n",
    "\n",
    "with open(pickle_file, 'rb') as f:\n",
    "    save = pickle.load(f)\n",
    "    train_dataset = save['train_dataset']\n",
    "    train_labels = save['train_labels']\n",
    "    valid_dataset = save['valid_dataset']\n",
    "    valid_labels = save['valid_labels']\n",
    "    test_dataset = save['test_dataset']\n",
    "    test_labels = save['test_labels']\n",
    "    del save  # hint to help gc free up memory\n",
    "    print('Training set', train_dataset.shape, train_labels.shape)\n",
    "    print('Validation set', valid_dataset.shape, valid_labels.shape)\n",
    "    print('Test set', test_dataset.shape, test_labels.shape)"
   ]
  },
  {
   "cell_type": "markdown",
   "metadata": {
    "colab_type": "text",
    "id": "L7aHrm6nGDMB"
   },
   "source": [
    "Reformat into a shape that's more adapted to the models we're going to train:\n",
    "- data as a flat matrix,\n",
    "- labels as float 1-hot encodings."
   ]
  },
  {
   "cell_type": "code",
   "execution_count": 4,
   "metadata": {
    "cellView": "both",
    "colab": {
     "autoexec": {
      "startup": false,
      "wait_interval": 0
     },
     "output_extras": [
      {
       "item_id": 1
      }
     ]
    },
    "colab_type": "code",
    "collapsed": false,
    "executionInfo": {
     "elapsed": 19723,
     "status": "ok",
     "timestamp": 1449847956364,
     "user": {
      "color": "",
      "displayName": "",
      "isAnonymous": false,
      "isMe": true,
      "permissionId": "",
      "photoUrl": "",
      "sessionId": "0",
      "userId": ""
     },
     "user_tz": 480
    },
    "id": "IRSyYiIIGIzS",
    "outputId": "2ba0fc75-1487-4ace-a562-cf81cae82793"
   },
   "outputs": [
    {
     "name": "stdout",
     "output_type": "stream",
     "text": [
      "Training set (200000, 784) (200000, 10)\n",
      "Validation set (10000, 784) (10000, 10)\n",
      "Test set (10000, 784) (10000, 10)\n"
     ]
    }
   ],
   "source": [
    "image_size = 28\n",
    "num_labels = 10\n",
    "\n",
    "def reformat(dataset, labels):\n",
    "    dataset = dataset.reshape((-1, image_size * image_size)).astype(np.float32)\n",
    "    # Map 0 to [1.0, 0.0, 0.0 ...], 1 to [0.0, 1.0, 0.0 ...]\n",
    "    labels = (np.arange(num_labels) == labels[:,None]).astype(np.float32)\n",
    "    return dataset, labels\n",
    "train_dataset, train_labels = reformat(train_dataset, train_labels)\n",
    "valid_dataset, valid_labels = reformat(valid_dataset, valid_labels)\n",
    "test_dataset, test_labels = reformat(test_dataset, test_labels)\n",
    "print('Training set', train_dataset.shape, train_labels.shape)\n",
    "print('Validation set', valid_dataset.shape, valid_labels.shape)\n",
    "print('Test set', test_dataset.shape, test_labels.shape)"
   ]
  },
  {
   "cell_type": "markdown",
   "metadata": {
    "colab_type": "text",
    "id": "nCLVqyQ5vPPH"
   },
   "source": [
    "We're first going to train a multinomial logistic regression using simple gradient descent.\n",
    "\n",
    "TensorFlow works like this:\n",
    "* First you describe the computation that you want to see performed: what the inputs, the variables, and the operations look like. These get created as nodes over a computation graph. This description is all contained within the block below:\n",
    "\n",
    "      with graph.as_default():\n",
    "          ...\n",
    "\n",
    "* Then you can run the operations on this graph as many times as you want by calling `session.run()`, providing it outputs to fetch from the graph that get returned. This runtime operation is all contained in the block below:\n",
    "\n",
    "      with tf.Session(graph=graph) as session:\n",
    "          ...\n",
    "\n",
    "Let's load all the data into TensorFlow and build the computation graph corresponding to our training:"
   ]
  },
  {
   "cell_type": "code",
   "execution_count": 5,
   "metadata": {
    "cellView": "both",
    "colab": {
     "autoexec": {
      "startup": false,
      "wait_interval": 0
     }
    },
    "colab_type": "code",
    "collapsed": false,
    "id": "Nfv39qvtvOl_"
   },
   "outputs": [],
   "source": [
    "# Subset the training data for faster turnaround.\n",
    "train_subset = 50000\n",
    "\n",
    "graph = tf.Graph()\n",
    "with graph.as_default():\n",
    "\n",
    "    # Input data.\n",
    "    # Load the training, validation and test data into constants that are\n",
    "    # attached to the graph.\n",
    "    tf_test_dataset = tf.constant(test_dataset)\n",
    "    tf_valid_dataset = tf.constant(valid_dataset)\n",
    "    tf_train_labels = tf.constant(train_labels[:train_subset])\n",
    "    tf_train_dataset = tf.constant(train_dataset[:train_subset,:])\n",
    "    \n",
    "    # Variables.\n",
    "    # These are the parameters that we are going to be training. The weight\n",
    "    # matrix will be initialized using random valued following a (truncated)\n",
    "    # normal distribution. The biases get initialized to zero.\n",
    "    biases = tf.Variable(tf.zeros([num_labels]))\n",
    "    weights = tf.Variable(tf.truncated_normal([image_size*image_size,num_labels]))\n",
    "    \n",
    "    # Training computation.\n",
    "    # We multiply the inputs with the weight matrix, and add biases. We compute\n",
    "    # the softmax and cross-entropy (it's one operation in TensorFlow, because\n",
    "    # it's very common, and it can be optimized). We take the average of this\n",
    "    # cross-entropy across all training examples: that's our loss.\n",
    "    logits = tf.matmul(tf_train_dataset,weights)+biases\n",
    "    loss = tf.reduce_mean(tf.nn.softmax_cross_entropy_with_logits(logits,tf_train_labels))\n",
    "  \n",
    "    # Optimizer.\n",
    "    # We are going to find the minimum of this loss using gradient descent.\n",
    "    optimizer = tf.train.GradientDescentOptimizer(0.5).minimize(loss)\n",
    "  \n",
    "    # Predictions for the training, validation, and test data.\n",
    "    # These are not part of training, but merely here so that we can report\n",
    "    # accuracy figures as we train.\n",
    "    train_prediction = tf.nn.softmax(logits)\n",
    "    test_prediction = tf.nn.softmax(tf.matmul(tf_test_dataset, weights) + biases)\n",
    "    valid_prediction = tf.nn.softmax(tf.matmul(tf_valid_dataset, weights) + biases)"
   ]
  },
  {
   "cell_type": "markdown",
   "metadata": {
    "colab_type": "text",
    "id": "KQcL4uqISHjP"
   },
   "source": [
    "Let's run this computation and iterate:"
   ]
  },
  {
   "cell_type": "code",
   "execution_count": 6,
   "metadata": {
    "cellView": "both",
    "colab": {
     "autoexec": {
      "startup": false,
      "wait_interval": 0
     },
     "output_extras": [
      {
       "item_id": 9
      }
     ]
    },
    "colab_type": "code",
    "collapsed": false,
    "executionInfo": {
     "elapsed": 57454,
     "status": "ok",
     "timestamp": 1449847994134,
     "user": {
      "color": "",
      "displayName": "",
      "isAnonymous": false,
      "isMe": true,
      "permissionId": "",
      "photoUrl": "",
      "sessionId": "0",
      "userId": ""
     },
     "user_tz": 480
    },
    "id": "z2cjdenH869W",
    "outputId": "4c037ba1-b526-4d8e-e632-91e2a0333267"
   },
   "outputs": [
    {
     "name": "stdout",
     "output_type": "stream",
     "text": [
      "Initialized\n",
      "Loss at step 0: 17.290522\n",
      "Training accuracy: 11.4%\n",
      "Validation accuracy: 12.8%\n",
      "Loss at step 100: 2.356305\n",
      "Training accuracy: 71.3%\n",
      "Validation accuracy: 71.2%\n",
      "Loss at step 200: 1.974864\n",
      "Training accuracy: 73.8%\n",
      "Validation accuracy: 74.0%\n",
      "Loss at step 300: 1.762495\n",
      "Training accuracy: 74.9%\n",
      "Validation accuracy: 74.9%\n",
      "Loss at step 400: 1.615204\n",
      "Training accuracy: 75.5%\n",
      "Validation accuracy: 75.3%\n",
      "Loss at step 500: 1.504139\n",
      "Training accuracy: 76.0%\n",
      "Validation accuracy: 75.7%\n",
      "Loss at step 600: 1.416431\n",
      "Training accuracy: 76.4%\n",
      "Validation accuracy: 76.0%\n",
      "Loss at step 700: 1.344858\n",
      "Training accuracy: 76.7%\n",
      "Validation accuracy: 76.3%\n",
      "Loss at step 800: 1.284997\n",
      "Training accuracy: 77.0%\n",
      "Validation accuracy: 76.6%\n",
      "Test accuracy: 83.8%\n"
     ]
    }
   ],
   "source": [
    "num_steps = 801\n",
    "\n",
    "def accuracy(predictions, labels):\n",
    "    return (100.0 * np.sum(np.argmax(predictions, 1) == np.argmax(labels, 1))\n",
    "            / predictions.shape[0])\n",
    "\n",
    "with tf.Session(graph=graph) as session:\n",
    "    # This is a one-time operation which ensures the parameters get initialized as\n",
    "    # we described in the graph: random weights for the matrix, zeros for the\n",
    "    # biases. \n",
    "    tf.initialize_all_variables().run()\n",
    "    print('Initialized')\n",
    "    for step in range(num_steps):\n",
    "        # Run the computations. We tell .run() that we want to run the optimizer,\n",
    "        # and get the loss value and the training predictions returned as numpy\n",
    "        # arrays.\n",
    "        _, l, predictions = session.run([optimizer, loss, train_prediction])\n",
    "        if (step % 100 == 0):\n",
    "            print('Loss at step %d: %f' % (step, l))\n",
    "            print('Training accuracy: %.1f%%' % accuracy(predictions, train_labels[:train_subset, :]))\n",
    "            # Calling .eval() on valid_prediction is basically like calling run(), but\n",
    "            # just to get that one numpy array. Note that it recomputes all its graph\n",
    "            # dependencies.\n",
    "            print('Validation accuracy: %.1f%%' % accuracy(valid_prediction.eval(), valid_labels))\n",
    "    print('Test accuracy: %.1f%%' % accuracy(test_prediction.eval(), test_labels))"
   ]
  },
  {
   "cell_type": "markdown",
   "metadata": {
    "colab_type": "text",
    "id": "x68f-hxRGm3H"
   },
   "source": [
    "Let's now switch to stochastic gradient descent training instead, which is much faster.\n",
    "\n",
    "The graph will be similar, except that instead of holding all the training data into a constant node, we create a `Placeholder` node which will be fed actual data at every call of `session.run()`."
   ]
  },
  {
   "cell_type": "code",
   "execution_count": 7,
   "metadata": {
    "cellView": "both",
    "colab": {
     "autoexec": {
      "startup": false,
      "wait_interval": 0
     }
    },
    "colab_type": "code",
    "collapsed": true,
    "id": "qhPMzWYRGrzM"
   },
   "outputs": [],
   "source": [
    "batch_size = 512\n",
    "\n",
    "graph = tf.Graph()\n",
    "with graph.as_default():\n",
    "\n",
    "    # Input data. For the training data, we use a placeholder that will be fed\n",
    "    # at run time with a training minibatch.\n",
    "    tf_test_dataset = tf.constant(test_dataset)\n",
    "    tf_valid_dataset = tf.constant(valid_dataset)\n",
    "    tf_train_labels = tf.placeholder(tf.float32,shape=(batch_size,num_labels))\n",
    "    tf_train_dataset = tf.placeholder(tf.float32,shape=(batch_size,image_size*image_size))\n",
    "    \n",
    "    # Variables.\n",
    "    biases = tf.Variable(tf.zeros([num_labels]))\n",
    "    weights = tf.Variable(tf.truncated_normal([image_size*image_size,num_labels]))\n",
    "    \n",
    "    # Training computation.\n",
    "    logits = tf.matmul(tf_train_dataset, weights)+biases\n",
    "    loss = tf.reduce_mean(tf.nn.softmax_cross_entropy_with_logits(logits,tf_train_labels))\n",
    "\n",
    "    # Optimizer.\n",
    "    optimizer = tf.train.GradientDescentOptimizer(0.5).minimize(loss)\n",
    "  \n",
    "    # Predictions for the training, validation, and test data.\n",
    "    train_prediction = tf.nn.softmax(logits)\n",
    "    test_prediction = tf.nn.softmax(tf.matmul(tf_test_dataset,weights)+biases)\n",
    "    valid_prediction = tf.nn.softmax(tf.matmul(tf_valid_dataset,weights)+biases)"
   ]
  },
  {
   "cell_type": "markdown",
   "metadata": {
    "colab_type": "text",
    "id": "XmVZESmtG4JH"
   },
   "source": [
    "Let's run it:"
   ]
  },
  {
   "cell_type": "code",
   "execution_count": 8,
   "metadata": {
    "cellView": "both",
    "colab": {
     "autoexec": {
      "startup": false,
      "wait_interval": 0
     },
     "output_extras": [
      {
       "item_id": 6
      }
     ]
    },
    "colab_type": "code",
    "collapsed": false,
    "executionInfo": {
     "elapsed": 66292,
     "status": "ok",
     "timestamp": 1449848003013,
     "user": {
      "color": "",
      "displayName": "",
      "isAnonymous": false,
      "isMe": true,
      "permissionId": "",
      "photoUrl": "",
      "sessionId": "0",
      "userId": ""
     },
     "user_tz": 480
    },
    "id": "FoF91pknG_YW",
    "outputId": "d255c80e-954d-4183-ca1c-c7333ce91d0a"
   },
   "outputs": [
    {
     "name": "stdout",
     "output_type": "stream",
     "text": [
      "Initialized\n",
      "Minibatch loss at step 0: 19.354591\n",
      "Minibatch accuracy: 8.8%\n",
      "Validation accuracy: 9.9%\n",
      "Test accuracy: 9.6%\n",
      "Minibatch loss at step 500: 1.388033\n",
      "Minibatch accuracy: 76.8%\n",
      "Validation accuracy: 75.6%\n",
      "Test accuracy: 82.5%\n",
      "Minibatch loss at step 1000: 1.089339\n",
      "Minibatch accuracy: 78.1%\n",
      "Validation accuracy: 76.8%\n",
      "Test accuracy: 83.8%\n",
      "Minibatch loss at step 1500: 1.318462\n",
      "Minibatch accuracy: 75.0%\n",
      "Validation accuracy: 77.2%\n",
      "Test accuracy: 84.7%\n",
      "Minibatch loss at step 2000: 1.084758\n",
      "Minibatch accuracy: 77.9%\n",
      "Validation accuracy: 77.9%\n",
      "Test accuracy: 85.2%\n",
      "Minibatch loss at step 2500: 0.766470\n",
      "Minibatch accuracy: 81.2%\n",
      "Validation accuracy: 78.3%\n",
      "Test accuracy: 85.5%\n",
      "Minibatch loss at step 3000: 0.835090\n",
      "Minibatch accuracy: 77.7%\n",
      "Validation accuracy: 79.1%\n",
      "Test accuracy: 86.3%\n",
      "Minibatch loss at step 3500: 0.864222\n",
      "Minibatch accuracy: 78.7%\n",
      "Validation accuracy: 79.4%\n",
      "Test accuracy: 86.6%\n",
      "Minibatch loss at step 4000: 0.777528\n",
      "Minibatch accuracy: 80.9%\n",
      "Validation accuracy: 79.5%\n",
      "Test accuracy: 86.6%\n",
      "Minibatch loss at step 4500: 0.860005\n",
      "Minibatch accuracy: 79.5%\n",
      "Validation accuracy: 79.9%\n",
      "Test accuracy: 86.9%\n",
      "Minibatch loss at step 5000: 0.835519\n",
      "Minibatch accuracy: 76.6%\n",
      "Validation accuracy: 80.2%\n",
      "Test accuracy: 87.3%\n",
      "Minibatch loss at step 5500: 0.756104\n",
      "Minibatch accuracy: 80.7%\n",
      "Validation accuracy: 80.2%\n",
      "Test accuracy: 87.4%\n",
      "Minibatch loss at step 6000: 0.824037\n",
      "Minibatch accuracy: 80.1%\n",
      "Validation accuracy: 80.4%\n",
      "Test accuracy: 87.5%\n",
      "Minibatch loss at step 6500: 0.838917\n",
      "Minibatch accuracy: 77.5%\n",
      "Validation accuracy: 80.8%\n",
      "Test accuracy: 87.8%\n",
      "Minibatch loss at step 7000: 0.625154\n",
      "Minibatch accuracy: 84.2%\n",
      "Validation accuracy: 81.1%\n",
      "Test accuracy: 87.9%\n",
      "Minibatch loss at step 7500: 0.635767\n",
      "Minibatch accuracy: 83.4%\n",
      "Validation accuracy: 81.0%\n",
      "Test accuracy: 88.0%\n",
      "Minibatch loss at step 8000: 0.710153\n",
      "Minibatch accuracy: 82.2%\n",
      "Validation accuracy: 81.2%\n",
      "Test accuracy: 88.1%\n",
      "Minibatch loss at step 8500: 0.704884\n",
      "Minibatch accuracy: 82.0%\n",
      "Validation accuracy: 81.2%\n",
      "Test accuracy: 88.3%\n",
      "Minibatch loss at step 9000: 0.787149\n",
      "Minibatch accuracy: 78.5%\n",
      "Validation accuracy: 81.6%\n",
      "Test accuracy: 88.4%\n",
      "Minibatch loss at step 9500: 0.726848\n",
      "Minibatch accuracy: 81.2%\n",
      "Validation accuracy: 81.7%\n",
      "Test accuracy: 88.3%\n",
      "Minibatch loss at step 10000: 0.555823\n",
      "Minibatch accuracy: 84.8%\n",
      "Validation accuracy: 81.8%\n",
      "Test accuracy: 88.7%\n"
     ]
    }
   ],
   "source": [
    "num_steps = 10001\n",
    "\n",
    "with tf.Session(graph=graph) as session:\n",
    "  \n",
    "    tf.initialize_all_variables().run()\n",
    "    print(\"Initialized\")\n",
    "  \n",
    "    for step in range(num_steps):\n",
    "        # Pick an offset within the training data, which has been randomized.\n",
    "        # Note: we could use better randomization across epochs.\n",
    "        offset = (step*batch_size)%(train_labels.shape[0]-batch_size)\n",
    "    \n",
    "        # Generate a minibatch.\n",
    "        batch_data = train_dataset[offset:(offset+batch_size),:]\n",
    "        batch_labels = train_labels[offset:(offset+batch_size),:]\n",
    "    \n",
    "        # Prepare a dictionary telling the session where to feed the minibatch.\n",
    "        # The key of the dictionary is the placeholder node of the graph to be fed,\n",
    "        # and the value is the numpy array to feed to it.\n",
    "        feed_dict = {tf_train_dataset:batch_data,tf_train_labels:batch_labels}\n",
    "    \n",
    "        _, l, predictions = session.run([optimizer, loss, train_prediction], feed_dict=feed_dict)\n",
    "    \n",
    "        if (step%500 == 0):\n",
    "            print(\"Minibatch loss at step %d: %f\" % (step, l))\n",
    "            print(\"Minibatch accuracy: %.1f%%\" % accuracy(predictions, batch_labels))\n",
    "            print(\"Validation accuracy: %.1f%%\" % accuracy(valid_prediction.eval(), valid_labels))\n",
    "            print(\"Test accuracy: %.1f%%\" % accuracy(test_prediction.eval(), test_labels))"
   ]
  },
  {
   "cell_type": "markdown",
   "metadata": {
    "colab_type": "text",
    "id": "7omWxtvLLxik"
   },
   "source": [
    "---\n",
    "Problem\n",
    "-------\n",
    "\n",
    "Turn the logistic regression example with SGD into a 1-hidden layer neural network with rectified linear units [nn.relu()](https://www.tensorflow.org/versions/r0.7/api_docs/python/nn.html#relu) and 1024 hidden nodes. This model should improve your validation / test accuracy.\n",
    "\n",
    "---"
   ]
  },
  {
   "cell_type": "code",
   "execution_count": 11,
   "metadata": {
    "collapsed": true
   },
   "outputs": [],
   "source": [
    "batch_size = 512\n",
    "num_hidden = 1024\n",
    "\n",
    "graph = tf.Graph()\n",
    "with graph.as_default():\n",
    "\n",
    "    # Input data. For the training data, we use a placeholder that will be fed\n",
    "    # at run time with a training minibatch.\n",
    "    tf_test_dataset = tf.constant(test_dataset)\n",
    "    tf_valid_dataset = tf.constant(valid_dataset)    \n",
    "    tf_train_labels = tf.placeholder(tf.float32,shape=(batch_size,num_labels))\n",
    "    tf_hidden_units = tf.placeholder(tf.float32,shape=(batch_size,image_size*image_size))\n",
    "    tf_train_dataset = tf.placeholder(tf.float32,shape=(batch_size,image_size*image_size))\n",
    "    \n",
    "    # Variables.\n",
    "    biases1 = tf.Variable(tf.zeros([num_hidden]))\n",
    "    weights1 = tf.Variable(tf.truncated_normal([image_size*image_size,num_hidden]))\n",
    "\n",
    "    biases2 = tf.Variable(tf.zeros([num_labels]))\n",
    "    weights2 = tf.Variable(tf.truncated_normal([num_hidden,num_labels]))\n",
    "    \n",
    "    # Training computation.\n",
    "    tf_hidden_units = tf.nn.relu(tf.matmul(tf_train_dataset, weights1)+biases1)\n",
    "    \n",
    "    logits = tf.matmul(tf_hidden_units, weights2)+biases2\n",
    "    loss = tf.reduce_mean(tf.nn.softmax_cross_entropy_with_logits(logits,tf_train_labels))\n",
    "\n",
    "    # Optimizer.\n",
    "    optimizer = tf.train.GradientDescentOptimizer(0.5).minimize(loss)\n",
    "  \n",
    "    # Predictions for the training, validation, and test data.\n",
    "    train_prediction = tf.nn.softmax(logits)\n",
    "    test_prediction = tf.nn.softmax(tf.matmul(tf.nn.relu(tf.matmul(tf_test_dataset,weights1)+biases1),\n",
    "                                              weights2)+biases2)\n",
    "    valid_prediction = tf.nn.softmax(tf.matmul(tf.nn.relu(tf.matmul(tf_valid_dataset,weights1)+biases1),\n",
    "                                               weights2)+biases2)"
   ]
  },
  {
   "cell_type": "code",
   "execution_count": 12,
   "metadata": {
    "collapsed": false
   },
   "outputs": [
    {
     "name": "stdout",
     "output_type": "stream",
     "text": [
      "Initialized\n",
      "Minibatch loss at step 0: 413.537567\n",
      "Minibatch accuracy: 5.3%\n",
      "Validation accuracy: 45.1%\n",
      "Test accuracy: 49.1%\n",
      "Minibatch loss at step 500: 7.049460\n",
      "Minibatch accuracy: 85.2%\n",
      "Validation accuracy: 81.7%\n",
      "Test accuracy: 88.0%\n",
      "Minibatch loss at step 1000: 3.375820\n",
      "Minibatch accuracy: 86.7%\n",
      "Validation accuracy: 84.0%\n",
      "Test accuracy: 90.7%\n",
      "Minibatch loss at step 1500: 10.526062\n",
      "Minibatch accuracy: 82.4%\n",
      "Validation accuracy: 81.1%\n",
      "Test accuracy: 87.5%\n",
      "Minibatch loss at step 2000: 3.784374\n",
      "Minibatch accuracy: 85.2%\n",
      "Validation accuracy: 81.7%\n",
      "Test accuracy: 88.2%\n",
      "Minibatch loss at step 2500: 3.055962\n",
      "Minibatch accuracy: 86.3%\n",
      "Validation accuracy: 83.6%\n",
      "Test accuracy: 90.3%\n",
      "Minibatch loss at step 3000: 1.348005\n",
      "Minibatch accuracy: 88.3%\n",
      "Validation accuracy: 85.0%\n",
      "Test accuracy: 91.5%\n",
      "Minibatch loss at step 3500: 2.082696\n",
      "Minibatch accuracy: 87.3%\n",
      "Validation accuracy: 82.4%\n",
      "Test accuracy: 88.5%\n",
      "Minibatch loss at step 4000: 2.480327\n",
      "Minibatch accuracy: 86.5%\n",
      "Validation accuracy: 84.7%\n",
      "Test accuracy: 90.9%\n",
      "Minibatch loss at step 4500: 1.028591\n",
      "Minibatch accuracy: 90.8%\n",
      "Validation accuracy: 84.4%\n",
      "Test accuracy: 90.9%\n",
      "Minibatch loss at step 5000: 1.424112\n",
      "Minibatch accuracy: 88.3%\n",
      "Validation accuracy: 85.5%\n",
      "Test accuracy: 91.9%\n",
      "Minibatch loss at step 5500: 1.340883\n",
      "Minibatch accuracy: 89.1%\n",
      "Validation accuracy: 85.0%\n",
      "Test accuracy: 91.6%\n",
      "Minibatch loss at step 6000: 4.001723\n",
      "Minibatch accuracy: 85.2%\n",
      "Validation accuracy: 83.2%\n",
      "Test accuracy: 89.6%\n",
      "Minibatch loss at step 6500: 1.189580\n",
      "Minibatch accuracy: 87.5%\n",
      "Validation accuracy: 84.8%\n",
      "Test accuracy: 91.5%\n",
      "Minibatch loss at step 7000: 0.537261\n",
      "Minibatch accuracy: 91.0%\n",
      "Validation accuracy: 85.0%\n",
      "Test accuracy: 91.9%\n",
      "Minibatch loss at step 7500: 0.565711\n",
      "Minibatch accuracy: 91.2%\n",
      "Validation accuracy: 85.3%\n",
      "Test accuracy: 91.9%\n",
      "Minibatch loss at step 8000: 0.677150\n",
      "Minibatch accuracy: 92.2%\n",
      "Validation accuracy: 85.1%\n",
      "Test accuracy: 91.9%\n",
      "Minibatch loss at step 8500: 0.777830\n",
      "Minibatch accuracy: 90.8%\n",
      "Validation accuracy: 85.2%\n",
      "Test accuracy: 91.7%\n",
      "Minibatch loss at step 9000: 0.636455\n",
      "Minibatch accuracy: 90.2%\n",
      "Validation accuracy: 84.1%\n",
      "Test accuracy: 90.7%\n",
      "Minibatch loss at step 9500: 0.349890\n",
      "Minibatch accuracy: 92.8%\n",
      "Validation accuracy: 85.5%\n",
      "Test accuracy: 91.7%\n",
      "Minibatch loss at step 10000: 0.547450\n",
      "Minibatch accuracy: 93.0%\n",
      "Validation accuracy: 85.6%\n",
      "Test accuracy: 92.0%\n"
     ]
    }
   ],
   "source": [
    "num_steps = 10001\n",
    "\n",
    "with tf.Session(graph=graph) as session:\n",
    "  \n",
    "    tf.initialize_all_variables().run()\n",
    "    print(\"Initialized\")\n",
    "  \n",
    "    for step in range(num_steps):\n",
    "        # Pick an offset within the training data, which has been randomized.\n",
    "        # Note: we could use better randomization across epochs.\n",
    "        offset = (step*batch_size)%(train_labels.shape[0]-batch_size)\n",
    "    \n",
    "        # Generate a minibatch.\n",
    "        batch_data = train_dataset[offset:(offset+batch_size),:]\n",
    "        batch_labels = train_labels[offset:(offset+batch_size),:]\n",
    "    \n",
    "        # Prepare a dictionary telling the session where to feed the minibatch.\n",
    "        # The key of the dictionary is the placeholder node of the graph to be fed,\n",
    "        # and the value is the numpy array to feed to it.\n",
    "        feed_dict = {tf_train_dataset:batch_data,tf_train_labels:batch_labels}\n",
    "    \n",
    "        _, l, predictions = session.run([optimizer, loss, train_prediction], feed_dict=feed_dict)\n",
    "    \n",
    "        if (step%500 == 0):\n",
    "            print(\"Minibatch loss at step %d: %f\" % (step, l))\n",
    "            print(\"Minibatch accuracy: %.1f%%\" % accuracy(predictions, batch_labels))\n",
    "            print(\"Validation accuracy: %.1f%%\" % accuracy(valid_prediction.eval(), valid_labels))\n",
    "            print(\"Test accuracy: %.1f%%\" % accuracy(test_prediction.eval(), test_labels))"
   ]
  },
  {
   "cell_type": "code",
   "execution_count": 13,
   "metadata": {
    "collapsed": true
   },
   "outputs": [],
   "source": [
    "# load the pickle file to continue analysis\n",
    "data = pickle.load(open('notMNISTClean.pickle','rb'))\n",
    "\n",
    "testLabels1 = data['testLabels']\n",
    "validLabels1 = data['validLabels']\n",
    "\n",
    "testDataset1 = data['testDataset']\n",
    "validDataset1 = data['validDataset']"
   ]
  },
  {
   "cell_type": "code",
   "execution_count": 18,
   "metadata": {
    "collapsed": false
   },
   "outputs": [
    {
     "name": "stdout",
     "output_type": "stream",
     "text": [
      "Test set (8689, 784) (8689, 10)\n",
      "Validation set (8849, 784) (8849, 10)\n"
     ]
    }
   ],
   "source": [
    "# normalize and prepare the datasets\n",
    "image_size = 28\n",
    "num_labels = 10\n",
    "\n",
    "def reformat(dataset, labels):\n",
    "    dataset = dataset.reshape((-1, image_size * image_size)).astype(np.float32)\n",
    "    labels = (np.arange(num_labels) == labels[:,None]).astype(np.float32)\n",
    "    return dataset, labels\n",
    "\n",
    "testDataset1,testLabels1 = reformat(testDataset1,testLabels1)\n",
    "validDataset1,validLabels1 = reformat(validDataset1,validLabels1)\n",
    "\n",
    "print('Test set', testDataset1.shape, testLabels1.shape)\n",
    "print('Validation set', validDataset1.shape, validLabels1.shape)"
   ]
  },
  {
   "cell_type": "code",
   "execution_count": 19,
   "metadata": {
    "collapsed": false
   },
   "outputs": [],
   "source": [
    "batch_size = 512\n",
    "num_hidden = 1024\n",
    "\n",
    "graph = tf.Graph()\n",
    "with graph.as_default():\n",
    "\n",
    "    # Input data. For the training data, we use a placeholder that will be fed\n",
    "    # at run time with a training minibatch.\n",
    "    tfTestClean = tf.constant(testDataset1)\n",
    "    tfValidClean = tf.constant(validDataset1)    \n",
    "    tf_test_dataset = tf.constant(test_dataset)\n",
    "    tf_valid_dataset = tf.constant(valid_dataset)    \n",
    "    tf_train_labels = tf.placeholder(tf.float32,shape=(batch_size,num_labels))\n",
    "    tf_hidden_units = tf.placeholder(tf.float32,shape=(batch_size,image_size*image_size))\n",
    "    tf_train_dataset = tf.placeholder(tf.float32,shape=(batch_size,image_size*image_size))\n",
    "    \n",
    "    # Variables.\n",
    "    biases1 = tf.Variable(tf.zeros([num_hidden]))\n",
    "    weights1 = tf.Variable(tf.truncated_normal([image_size*image_size,num_hidden]))\n",
    "\n",
    "    biases2 = tf.Variable(tf.zeros([num_labels]))\n",
    "    weights2 = tf.Variable(tf.truncated_normal([num_hidden,num_labels]))\n",
    "    \n",
    "    # Training computation.\n",
    "    tf_hidden_units = tf.nn.relu(tf.matmul(tf_train_dataset, weights1)+biases1)\n",
    "    \n",
    "    logits = tf.matmul(tf_hidden_units, weights2)+biases2\n",
    "    loss = tf.reduce_mean(tf.nn.softmax_cross_entropy_with_logits(logits,tf_train_labels))\n",
    "\n",
    "    # Optimizer.\n",
    "    optimizer = tf.train.GradientDescentOptimizer(0.5).minimize(loss)\n",
    "  \n",
    "    # Predictions for the training, validation, and test data.\n",
    "    train_prediction = tf.nn.softmax(logits)\n",
    "    testPredClean = tf.nn.softmax(tf.matmul(tf.nn.relu(tf.matmul(tfTestClean,weights1)+biases1),\n",
    "                                            weights2)+biases2)\n",
    "    validPredClean = tf.nn.softmax(tf.matmul(tf.nn.relu(tf.matmul(tfValidClean,weights1)+biases1),\n",
    "                                             weights2)+biases2)\n",
    "    test_prediction = tf.nn.softmax(tf.matmul(tf.nn.relu(tf.matmul(tf_test_dataset,weights1)+biases1),\n",
    "                                              weights2)+biases2)\n",
    "    valid_prediction = tf.nn.softmax(tf.matmul(tf.nn.relu(tf.matmul(tf_valid_dataset,weights1)+biases1),\n",
    "                                               weights2)+biases2)"
   ]
  },
  {
   "cell_type": "code",
   "execution_count": 20,
   "metadata": {
    "collapsed": false,
    "scrolled": false
   },
   "outputs": [
    {
     "name": "stdout",
     "output_type": "stream",
     "text": [
      "Initialized\n",
      "Minibatch loss at step 0: 283.795776\n",
      "Minibatch accuracy: 13.3% \n",
      "\n",
      "Test accuracy: 39.4%\n",
      "Test accuracy clean: 37.8% \n",
      "\n",
      "Validation accuracy: 36.1%\n",
      "Validation accuracy clean: 34.5% \n",
      "\n",
      "Minibatch loss at step 500: 6.252064\n",
      "Minibatch accuracy: 85.9% \n",
      "\n",
      "Test accuracy: 89.8%\n",
      "Test accuracy clean: 88.7% \n",
      "\n",
      "Validation accuracy: 83.1%\n",
      "Validation accuracy clean: 81.7% \n",
      "\n",
      "Minibatch loss at step 1000: 3.547809\n",
      "Minibatch accuracy: 84.4% \n",
      "\n",
      "Test accuracy: 91.0%\n",
      "Test accuracy clean: 90.0% \n",
      "\n",
      "Validation accuracy: 84.4%\n",
      "Validation accuracy clean: 83.0% \n",
      "\n",
      "Minibatch loss at step 1500: 10.362753\n",
      "Minibatch accuracy: 80.9% \n",
      "\n",
      "Test accuracy: 89.1%\n",
      "Test accuracy clean: 88.0% \n",
      "\n",
      "Validation accuracy: 81.9%\n",
      "Validation accuracy clean: 80.5% \n",
      "\n",
      "Minibatch loss at step 2000: 3.707421\n",
      "Minibatch accuracy: 85.2% \n",
      "\n",
      "Test accuracy: 89.3%\n",
      "Test accuracy clean: 88.3% \n",
      "\n",
      "Validation accuracy: 82.5%\n",
      "Validation accuracy clean: 81.0% \n",
      "\n",
      "Minibatch loss at step 2500: 2.651877\n",
      "Minibatch accuracy: 85.9% \n",
      "\n",
      "Test accuracy: 90.9%\n",
      "Test accuracy clean: 89.9% \n",
      "\n",
      "Validation accuracy: 84.6%\n",
      "Validation accuracy clean: 83.3% \n",
      "\n",
      "Minibatch loss at step 3000: 1.894771\n",
      "Minibatch accuracy: 87.3% \n",
      "\n",
      "Test accuracy: 91.0%\n",
      "Test accuracy clean: 90.0% \n",
      "\n",
      "Validation accuracy: 84.4%\n",
      "Validation accuracy clean: 83.0% \n",
      "\n",
      "Minibatch loss at step 3500: 2.794286\n",
      "Minibatch accuracy: 86.5% \n",
      "\n",
      "Test accuracy: 88.3%\n",
      "Test accuracy clean: 88.7% \n",
      "\n",
      "Validation accuracy: 82.2%\n",
      "Validation accuracy clean: 81.8% \n",
      "\n",
      "Minibatch loss at step 4000: 2.547551\n",
      "Minibatch accuracy: 86.5% \n",
      "\n",
      "Test accuracy: 88.3%\n",
      "Test accuracy clean: 87.2% \n",
      "\n",
      "Validation accuracy: 81.4%\n",
      "Validation accuracy clean: 80.0% \n",
      "\n",
      "Minibatch loss at step 4500: 1.065341\n",
      "Minibatch accuracy: 89.1% \n",
      "\n",
      "Test accuracy: 90.6%\n",
      "Test accuracy clean: 89.6% \n",
      "\n",
      "Validation accuracy: 83.9%\n",
      "Validation accuracy clean: 82.5% \n",
      "\n",
      "Minibatch loss at step 5000: 0.987969\n",
      "Minibatch accuracy: 87.1% \n",
      "\n",
      "Test accuracy: 91.5%\n",
      "Test accuracy clean: 90.5% \n",
      "\n",
      "Validation accuracy: 85.0%\n",
      "Validation accuracy clean: 83.7% \n",
      "\n",
      "Minibatch loss at step 5500: 1.179892\n",
      "Minibatch accuracy: 90.2% \n",
      "\n",
      "Test accuracy: 90.9%\n",
      "Test accuracy clean: 89.8% \n",
      "\n",
      "Validation accuracy: 84.5%\n",
      "Validation accuracy clean: 83.2% \n",
      "\n",
      "Minibatch loss at step 6000: 1.468593\n",
      "Minibatch accuracy: 90.0% \n",
      "\n",
      "Test accuracy: 91.1%\n",
      "Test accuracy clean: 90.2% \n",
      "\n",
      "Validation accuracy: 85.0%\n",
      "Validation accuracy clean: 83.7% \n",
      "\n",
      "Minibatch loss at step 6500: 1.165505\n",
      "Minibatch accuracy: 87.1% \n",
      "\n",
      "Test accuracy: 91.3%\n",
      "Test accuracy clean: 90.3% \n",
      "\n",
      "Validation accuracy: 85.2%\n",
      "Validation accuracy clean: 83.8% \n",
      "\n",
      "Minibatch loss at step 7000: 0.635524\n",
      "Minibatch accuracy: 89.5% \n",
      "\n",
      "Test accuracy: 91.5%\n",
      "Test accuracy clean: 90.5% \n",
      "\n",
      "Validation accuracy: 85.0%\n",
      "Validation accuracy clean: 83.7% \n",
      "\n",
      "Minibatch loss at step 7500: 0.566251\n",
      "Minibatch accuracy: 89.6% \n",
      "\n",
      "Test accuracy: 91.7%\n",
      "Test accuracy clean: 90.7% \n",
      "\n",
      "Validation accuracy: 85.6%\n",
      "Validation accuracy clean: 84.2% \n",
      "\n",
      "Minibatch loss at step 8000: 0.984940\n",
      "Minibatch accuracy: 92.4% \n",
      "\n",
      "Test accuracy: 90.4%\n",
      "Test accuracy clean: 89.3% \n",
      "\n",
      "Validation accuracy: 84.2%\n",
      "Validation accuracy clean: 82.8% \n",
      "\n",
      "Minibatch loss at step 8500: 0.462656\n",
      "Minibatch accuracy: 91.4% \n",
      "\n",
      "Test accuracy: 91.3%\n",
      "Test accuracy clean: 90.2% \n",
      "\n",
      "Validation accuracy: 85.4%\n",
      "Validation accuracy clean: 84.0% \n",
      "\n",
      "Minibatch loss at step 9000: 0.723845\n",
      "Minibatch accuracy: 90.6% \n",
      "\n",
      "Test accuracy: 91.5%\n",
      "Test accuracy clean: 90.4% \n",
      "\n",
      "Validation accuracy: 85.1%\n",
      "Validation accuracy clean: 83.7% \n",
      "\n",
      "Minibatch loss at step 9500: 0.506363\n",
      "Minibatch accuracy: 91.4% \n",
      "\n",
      "Test accuracy: 91.6%\n",
      "Test accuracy clean: 90.6% \n",
      "\n",
      "Validation accuracy: 85.5%\n",
      "Validation accuracy clean: 84.1% \n",
      "\n",
      "Minibatch loss at step 10000: 0.417347\n",
      "Minibatch accuracy: 93.6% \n",
      "\n",
      "Test accuracy: 91.6%\n",
      "Test accuracy clean: 90.5% \n",
      "\n",
      "Validation accuracy: 85.4%\n",
      "Validation accuracy clean: 84.1% \n",
      "\n"
     ]
    }
   ],
   "source": [
    "num_steps = 10001\n",
    "\n",
    "with tf.Session(graph=graph) as session:\n",
    "  \n",
    "    tf.initialize_all_variables().run()\n",
    "    print(\"Initialized\")\n",
    "  \n",
    "    for step in range(num_steps):\n",
    "        # Pick an offset within the training data, which has been randomized.\n",
    "        # Note: we could use better randomization across epochs.\n",
    "        offset = (step*batch_size)%(train_labels.shape[0]-batch_size)\n",
    "    \n",
    "        # Generate a minibatch.\n",
    "        batch_data = train_dataset[offset:(offset+batch_size),:]\n",
    "        batch_labels = train_labels[offset:(offset+batch_size),:]\n",
    "    \n",
    "        # Prepare a dictionary telling the session where to feed the minibatch.\n",
    "        # The key of the dictionary is the placeholder node of the graph to be fed,\n",
    "        # and the value is the numpy array to feed to it.\n",
    "        feed_dict = {tf_train_dataset:batch_data,tf_train_labels:batch_labels}\n",
    "    \n",
    "        _, l, predictions = session.run([optimizer, loss, train_prediction], feed_dict=feed_dict)\n",
    "    \n",
    "        if (step%500 == 0):\n",
    "            print(\"Minibatch loss at step %d: %f\" % (step, l))\n",
    "            print(\"Minibatch accuracy: %.1f%% \\n\" % accuracy(predictions, batch_labels))\n",
    "            print(\"Test accuracy: %.1f%%\" % accuracy(test_prediction.eval(), test_labels))\n",
    "            print(\"Test accuracy clean: %.1f%% \\n\" % accuracy(testPredClean.eval(), testLabels1))\n",
    "            print(\"Validation accuracy: %.1f%%\" % accuracy(valid_prediction.eval(), valid_labels))\n",
    "            print(\"Validation accuracy clean: %.1f%% \\n\" % accuracy(validPredClean.eval(), validLabels1))"
   ]
  },
  {
   "cell_type": "code",
   "execution_count": null,
   "metadata": {
    "collapsed": true
   },
   "outputs": [],
   "source": []
  }
 ],
 "metadata": {
  "colab": {
   "default_view": {},
   "name": "2_fullyconnected.ipynb",
   "provenance": [],
   "version": "0.3.2",
   "views": {}
  },
  "kernelspec": {
   "display_name": "Python 2",
   "language": "python",
   "name": "python2"
  },
  "language_info": {
   "codemirror_mode": {
    "name": "ipython",
    "version": 2
   },
   "file_extension": ".py",
   "mimetype": "text/x-python",
   "name": "python",
   "nbconvert_exporter": "python",
   "pygments_lexer": "ipython2",
   "version": "2.7.6"
  }
 },
 "nbformat": 4,
 "nbformat_minor": 0
}
