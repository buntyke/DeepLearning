{
 "cells": [
  {
   "cell_type": "markdown",
   "metadata": {},
   "source": [
    "# [Deep MNIST Tutorial from Tensorflow](https://www.tensorflow.org/versions/r0.11/tutorials/mnist/pros/index.html#deep-mnist-for-experts)\n",
    "---"
   ]
  },
  {
   "cell_type": "code",
   "execution_count": 1,
   "metadata": {
    "collapsed": true
   },
   "outputs": [],
   "source": [
    "# import modules\n",
    "import tensorflow as tf\n",
    "from tensorflow.examples.tutorials.mnist import input_data"
   ]
  },
  {
   "cell_type": "code",
   "execution_count": 2,
   "metadata": {
    "collapsed": false
   },
   "outputs": [
    {
     "name": "stdout",
     "output_type": "stream",
     "text": [
      "Extracting MNIST_data/train-images-idx3-ubyte.gz\n",
      "Extracting MNIST_data/train-labels-idx1-ubyte.gz\n",
      "Extracting MNIST_data/t10k-images-idx3-ubyte.gz\n",
      "Extracting MNIST_data/t10k-labels-idx1-ubyte.gz\n"
     ]
    }
   ],
   "source": [
    "# load the input data\n",
    "mnist = input_data.read_data_sets('MNIST_data', one_hot=True)"
   ]
  },
  {
   "cell_type": "code",
   "execution_count": 3,
   "metadata": {
    "collapsed": false
   },
   "outputs": [
    {
     "name": "stdout",
     "output_type": "stream",
     "text": [
      "Running\n",
      "Running\n",
      "Running\n",
      "Running\n",
      "Running\n",
      "Running\n",
      "Running\n",
      "Running\n",
      "Running\n",
      "Running\n",
      "0.9209\n"
     ]
    }
   ],
   "source": [
    "# setup an interactive session required for working in ipython\n",
    "sess = tf.InteractiveSession()\n",
    "\n",
    "# design of a softmax regression model\n",
    "\n",
    "# place holders for the data\n",
    "x = tf.placeholder(tf.float32, shape=[None, 784])\n",
    "y_ = tf.placeholder(tf.float32, shape=[None, 10])\n",
    "\n",
    "# create variables for regression model\n",
    "W = tf.Variable(tf.zeros([784,10]))\n",
    "b = tf.Variable(tf.zeros([10]))\n",
    "\n",
    "# it is important to initialize the variables before they can be used in a session\n",
    "sess.run(tf.initialize_all_variables())\n",
    "\n",
    "# implement output of regression model\n",
    "y = tf.matmul(x,W) + b\n",
    "\n",
    "# use cross-entropy as the loss function for training\n",
    "cross_entropy = tf.reduce_mean(tf.nn.softmax_cross_entropy_with_logits(y, y_))\n",
    "\n",
    "# use gradient descent to optimize the parameters such that the loss is minimized\n",
    "train_step = tf.train.GradientDescentOptimizer(0.5).minimize(cross_entropy)\n",
    "\n",
    "# this train step is run for some iterations\n",
    "for i in range(1000):\n",
    "    batch = mnist.train.next_batch(100)\n",
    "    train_step.run(feed_dict={x:batch[0], y_:batch[1]})\n",
    "    if i%100 == 0:\n",
    "        print 'Running'\n",
    "        \n",
    "# check the accuracy of the model\n",
    "correct_prediction = tf.equal(tf.argmax(y,1), tf.argmax(y_,1))\n",
    "\n",
    "# compute accuracy from all predictions\n",
    "accuracy = tf.reduce_mean(tf.cast(correct_prediction, tf.float32))\n",
    "print accuracy.eval(feed_dict={x: mnist.test.images, y_:mnist.test.labels})"
   ]
  },
  {
   "cell_type": "code",
   "execution_count": null,
   "metadata": {
    "collapsed": false
   },
   "outputs": [
    {
     "name": "stdout",
     "output_type": "stream",
     "text": [
      "Step 0: Accuracy 0.06\n",
      "Step 100: Accuracy 0.8\n",
      "Step 200: Accuracy 0.88\n",
      "Step 300: Accuracy 0.96\n",
      "Step 400: Accuracy 1\n",
      "Step 500: Accuracy 0.96\n",
      "Step 600: Accuracy 0.96\n",
      "Step 700: Accuracy 1\n",
      "Step 800: Accuracy 0.94\n",
      "Step 900: Accuracy 0.86\n",
      "Step 1000: Accuracy 0.98\n",
      "Step 1100: Accuracy 1\n",
      "Step 1200: Accuracy 0.98\n",
      "Step 1300: Accuracy 0.98\n",
      "Step 1400: Accuracy 0.94\n",
      "Step 1500: Accuracy 0.98\n",
      "Step 1600: Accuracy 0.98\n",
      "Step 1700: Accuracy 1\n"
     ]
    }
   ],
   "source": [
    "# create a session\n",
    "sess = tf.InteractiveSession()\n",
    "\n",
    "# train convolutional neural network model\n",
    "\n",
    "# functions to initialize weight parameters\n",
    "def weight_variable(shape):\n",
    "    initial = tf.truncated_normal(shape, stddev=0.1)\n",
    "    return tf.Variable(initial)\n",
    "\n",
    "def bias_variable(shape):\n",
    "    initial = tf.constant(0.1, shape=shape)\n",
    "    return tf.Variable(initial)\n",
    "\n",
    "# functions to perform convolutions and max pooling\n",
    "def conv_2d(x,W):\n",
    "    return tf.nn.conv2d(x, W, strides=[1,1,1,1], padding='SAME')\n",
    "\n",
    "def max_pool_2x2(x):\n",
    "    return tf.nn.max_pool(x, ksize=[1,2,2,1], strides=[1,2,2,1], padding='SAME')\n",
    "\n",
    "# reshape image variable\n",
    "x = tf.placeholder(tf.float32, shape=[None, 784])\n",
    "x_image = tf.reshape(x, [-1,28,28,1])\n",
    "\n",
    "# variable for true labels\n",
    "y_ = tf.placeholder(tf.float32, shape=[None, 10])\n",
    "\n",
    "# create the convolutional layers\n",
    "W_conv1 = weight_variable([5,5,1,32])\n",
    "b_conv1 = bias_variable([32])\n",
    "\n",
    "W_conv2 = weight_variable([5,5,32,64])\n",
    "b_conv2 = bias_variable([64])\n",
    "\n",
    "# apply convolutional layers\n",
    "h_conv1 = tf.nn.relu(conv_2d(x_image, W_conv1)+b_conv1)\n",
    "h_pool1 = max_pool_2x2(h_conv1)\n",
    "\n",
    "h_conv2 = tf.nn.relu(conv_2d(h_pool1, W_conv2)+b_conv2)\n",
    "h_pool2 = max_pool_2x2(h_conv2)\n",
    "\n",
    "# create a fully connected layer\n",
    "W_fc1 = weight_variable([7*7*64, 1024])\n",
    "b_fc1 = bias_variable([1024])\n",
    "\n",
    "# apply fully connected layer\n",
    "h_pool2_flat = tf.reshape(h_pool2, [-1,7*7*64])\n",
    "h_fc1 = tf.nn.relu(tf.matmul(h_pool2_flat, W_fc1)+b_fc1)\n",
    "\n",
    "# apply dropout before computing softmax probabilities\n",
    "keep_prob = tf.placeholder(tf.float32)\n",
    "h_fc1_drop = tf.nn.dropout(h_fc1, keep_prob=keep_prob)\n",
    "\n",
    "# obtain output\n",
    "W_fc2 = weight_variable([1024,10])\n",
    "b_fc2 = bias_variable([10])\n",
    "\n",
    "y_conv = tf.matmul(h_fc1_drop, W_fc2)+b_fc2\n",
    "\n",
    "# evaluate loss function\n",
    "cross_entropy = tf.reduce_mean(tf.nn.softmax_cross_entropy_with_logits(y_conv, y_))\n",
    "\n",
    "# create optimizer\n",
    "train_step = tf.train.AdamOptimizer(1e-4).minimize(cross_entropy)\n",
    "\n",
    "# formulation for computing accuracy\n",
    "correct_prediction = tf.equal(tf.argmax(y_conv,1),tf.argmax(y_,1))\n",
    "accuracy = tf.reduce_mean(tf.cast(correct_prediction, tf.float32))\n",
    "\n",
    "# initialize all variables for the session\n",
    "sess.run(tf.initialize_all_variables())\n",
    "\n",
    "# train the model\n",
    "for i in range(20000):\n",
    "    batch = mnist.train.next_batch(50)\n",
    "    \n",
    "    if i%100 == 0:\n",
    "        train_accuracy = accuracy.eval(feed_dict={x:batch[0], y_:batch[1], keep_prob:1.0})\n",
    "        print \"Step %d: Accuracy %g\"%(i,train_accuracy)\n",
    "        \n",
    "    train_step.run(feed_dict={x:batch[0], y_:batch[1], keep_prob:0.5})\n",
    "    \n",
    "# obtain the test accuracy\n",
    "print \"Test accuracy %g\" % accuracy.eval(feed_dict={x: mnist.test.images, \n",
    "                                                    y_: mnist.test.labels, \n",
    "                                                    keep_prob: 1.0})"
   ]
  },
  {
   "cell_type": "code",
   "execution_count": null,
   "metadata": {
    "collapsed": true
   },
   "outputs": [],
   "source": []
  }
 ],
 "metadata": {
  "anaconda-cloud": {},
  "kernelspec": {
   "display_name": "Python 2",
   "language": "python",
   "name": "python2"
  },
  "language_info": {
   "codemirror_mode": {
    "name": "ipython",
    "version": 2
   },
   "file_extension": ".py",
   "mimetype": "text/x-python",
   "name": "python",
   "nbconvert_exporter": "python",
   "pygments_lexer": "ipython2",
   "version": "2.7.6"
  },
  "widgets": {
   "state": {},
   "version": "1.1.2"
  }
 },
 "nbformat": 4,
 "nbformat_minor": 0
}
