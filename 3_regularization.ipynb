{
 "cells": [
  {
   "cell_type": "markdown",
   "metadata": {
    "colab_type": "text",
    "id": "kR-4eNdK6lYS"
   },
   "source": [
    "Deep Learning\n",
    "=============\n",
    "\n",
    "Assignment 3\n",
    "------------\n",
    "\n",
    "Previously in `2_fullyconnected.ipynb`, you trained a logistic regression and a neural network model.\n",
    "\n",
    "The goal of this assignment is to explore regularization techniques."
   ]
  },
  {
   "cell_type": "code",
   "execution_count": 2,
   "metadata": {
    "cellView": "both",
    "colab": {
     "autoexec": {
      "startup": false,
      "wait_interval": 0
     }
    },
    "colab_type": "code",
    "collapsed": true,
    "id": "JLpLa8Jt7Vu4"
   },
   "outputs": [],
   "source": [
    "# These are all the modules we'll be using later. Make sure you can import them\n",
    "# before proceeding further.\n",
    "import numpy as np\n",
    "import tensorflow as tf\n",
    "from __future__ import print_function\n",
    "from six.moves import cPickle as pickle"
   ]
  },
  {
   "cell_type": "markdown",
   "metadata": {
    "colab_type": "text",
    "id": "1HrCK6e17WzV"
   },
   "source": [
    "First reload the data we generated in _notmist.ipynb_."
   ]
  },
  {
   "cell_type": "code",
   "execution_count": 3,
   "metadata": {
    "cellView": "both",
    "colab": {
     "autoexec": {
      "startup": false,
      "wait_interval": 0
     },
     "output_extras": [
      {
       "item_id": 1
      }
     ]
    },
    "colab_type": "code",
    "collapsed": false,
    "executionInfo": {
     "elapsed": 11777,
     "status": "ok",
     "timestamp": 1449849322348,
     "user": {
      "color": "",
      "displayName": "",
      "isAnonymous": false,
      "isMe": true,
      "permissionId": "",
      "photoUrl": "",
      "sessionId": "0",
      "userId": ""
     },
     "user_tz": 480
    },
    "id": "y3-cj1bpmuxc",
    "outputId": "e03576f1-ebbe-4838-c388-f1777bcc9873"
   },
   "outputs": [
    {
     "name": "stdout",
     "output_type": "stream",
     "text": [
      "Training set (200000, 28, 28) (200000,)\n",
      "Validation set (10000, 28, 28) (10000,)\n",
      "Test set (10000, 28, 28) (10000,)\n"
     ]
    }
   ],
   "source": [
    "pickle_file = 'notMNIST.pickle'\n",
    "\n",
    "with open(pickle_file, 'rb') as f:\n",
    "    save = pickle.load(f)\n",
    "    train_dataset = save['train_dataset']\n",
    "    train_labels = save['train_labels']\n",
    "    valid_dataset = save['valid_dataset']\n",
    "    valid_labels = save['valid_labels']\n",
    "    test_dataset = save['test_dataset']\n",
    "    test_labels = save['test_labels']\n",
    "    del save  # hint to help gc free up memory\n",
    "    print('Training set', train_dataset.shape, train_labels.shape)\n",
    "    print('Validation set', valid_dataset.shape, valid_labels.shape)\n",
    "    print('Test set', test_dataset.shape, test_labels.shape)"
   ]
  },
  {
   "cell_type": "markdown",
   "metadata": {
    "colab_type": "text",
    "id": "L7aHrm6nGDMB"
   },
   "source": [
    "Reformat into a shape that's more adapted to the models we're going to train:\n",
    "- data as a flat matrix,\n",
    "- labels as float 1-hot encodings."
   ]
  },
  {
   "cell_type": "code",
   "execution_count": 4,
   "metadata": {
    "cellView": "both",
    "colab": {
     "autoexec": {
      "startup": false,
      "wait_interval": 0
     },
     "output_extras": [
      {
       "item_id": 1
      }
     ]
    },
    "colab_type": "code",
    "collapsed": false,
    "executionInfo": {
     "elapsed": 11728,
     "status": "ok",
     "timestamp": 1449849322356,
     "user": {
      "color": "",
      "displayName": "",
      "isAnonymous": false,
      "isMe": true,
      "permissionId": "",
      "photoUrl": "",
      "sessionId": "0",
      "userId": ""
     },
     "user_tz": 480
    },
    "id": "IRSyYiIIGIzS",
    "outputId": "3f8996ee-3574-4f44-c953-5c8a04636582"
   },
   "outputs": [
    {
     "name": "stdout",
     "output_type": "stream",
     "text": [
      "Training set (200000, 784) (200000, 10)\n",
      "Validation set (10000, 784) (10000, 10)\n",
      "Test set (10000, 784) (10000, 10)\n"
     ]
    }
   ],
   "source": [
    "image_size = 28\n",
    "num_labels = 10\n",
    "\n",
    "def reformat(dataset, labels):\n",
    "    dataset = dataset.reshape((-1, image_size * image_size)).astype(np.float32)\n",
    "    # Map 2 to [0.0, 1.0, 0.0 ...], 3 to [0.0, 0.0, 1.0 ...]\n",
    "    labels = (np.arange(num_labels) == labels[:,None]).astype(np.float32)\n",
    "    return dataset, labels\n",
    "\n",
    "train_dataset, train_labels = reformat(train_dataset, train_labels)\n",
    "valid_dataset, valid_labels = reformat(valid_dataset, valid_labels)\n",
    "test_dataset, test_labels = reformat(test_dataset, test_labels)\n",
    "print('Training set', train_dataset.shape, train_labels.shape)\n",
    "print('Validation set', valid_dataset.shape, valid_labels.shape)\n",
    "print('Test set', test_dataset.shape, test_labels.shape)"
   ]
  },
  {
   "cell_type": "code",
   "execution_count": 5,
   "metadata": {
    "cellView": "both",
    "colab": {
     "autoexec": {
      "startup": false,
      "wait_interval": 0
     }
    },
    "colab_type": "code",
    "collapsed": true,
    "id": "RajPLaL_ZW6w"
   },
   "outputs": [],
   "source": [
    "def accuracy(predictions, labels):\n",
    "  return (100.0 * np.sum(np.argmax(predictions, 1) == np.argmax(labels, 1))\n",
    "          / predictions.shape[0])"
   ]
  },
  {
   "cell_type": "markdown",
   "metadata": {
    "colab_type": "text",
    "id": "sgLbUAQ1CW-1"
   },
   "source": [
    "---\n",
    "Problem 1\n",
    "---------\n",
    "\n",
    "Introduce and tune L2 regularization for both logistic and neural network models. Remember that L2 amounts to adding a penalty on the norm of the weights to the loss. In TensorFlow, you can compute the L2 loss for a tensor `t` using `nn.l2_loss(t)`. The right amount of regularization should improve your validation / test accuracy.\n",
    "\n",
    "---"
   ]
  },
  {
   "cell_type": "code",
   "execution_count": null,
   "metadata": {
    "collapsed": true
   },
   "outputs": [],
   "source": [
    "# fixed variables\n",
    "\n",
    "# Subset the training data for faster turnaround.\n",
    "train_subset = 50000\n",
    "\n",
    "# batch size for sgd\n",
    "batch_size = 512"
   ]
  },
  {
   "cell_type": "code",
   "execution_count": null,
   "metadata": {
    "collapsed": false
   },
   "outputs": [],
   "source": [
    "# create computation graph for logistic regression with regularization\n",
    "logRegGraph = tf.Graph()\n",
    "with logRegGraph.as_default():\n",
    "\n",
    "    # input data\n",
    "    tf_test_dataset = tf.constant(test_dataset)\n",
    "    tf_valid_dataset = tf.constant(valid_dataset)\n",
    "    tf_train_labels = tf.placeholder(tf.float32,shape=(batch_size,num_labels))\n",
    "    tf_train_dataset = tf.placeholder(tf.float32,shape=(batch_size,image_size*image_size))\n",
    "    \n",
    "    # variables\n",
    "    biases = tf.Variable(tf.zeros([num_labels]))\n",
    "    weights = tf.Variable(tf.truncated_normal([image_size*image_size,num_labels]))\n",
    "    \n",
    "    # regularization constant\n",
    "    beta = tf.constant(5e-3)\n",
    "    \n",
    "    # training computation.\n",
    "    logits = tf.matmul(tf_train_dataset,weights)+biases\n",
    "    loss = tf.reduce_mean(tf.nn.softmax_cross_entropy_with_logits(logits,tf_train_labels)) \\\n",
    "           + beta*tf.nn.l2_loss(weights)\n",
    "  \n",
    "    # optimizer\n",
    "    optimizer = tf.train.GradientDescentOptimizer(0.5).minimize(loss)\n",
    "  \n",
    "    # predictions for the training, validation, and test data\n",
    "    train_prediction = tf.nn.softmax(logits)\n",
    "    test_prediction = tf.nn.softmax(tf.matmul(tf_test_dataset, weights) + biases)\n",
    "    valid_prediction = tf.nn.softmax(tf.matmul(tf_valid_dataset, weights) + biases)"
   ]
  },
  {
   "cell_type": "code",
   "execution_count": null,
   "metadata": {
    "collapsed": false
   },
   "outputs": [],
   "source": [
    "num_steps = 2001\n",
    "\n",
    "with tf.Session(graph=logRegGraph) as session:\n",
    "  \n",
    "    tf.initialize_all_variables().run()\n",
    "    \n",
    "    for step in range(num_steps):\n",
    "        # offset to sample data\n",
    "        offset = (step*batch_size)%(train_labels.shape[0]-batch_size)\n",
    "    \n",
    "        # generate a minibatch.\n",
    "        batch_data = train_dataset[offset:(offset+batch_size),:]\n",
    "        batch_labels = train_labels[offset:(offset+batch_size),:]\n",
    "    \n",
    "        # prepare dictionary with the minibatch.\n",
    "        feed_dict = {tf_train_dataset:batch_data,tf_train_labels:batch_labels}\n",
    "    \n",
    "        _, l, predictions = session.run([optimizer, loss, train_prediction], feed_dict=feed_dict)\n",
    "    \n",
    "        if (step%500 == 0):\n",
    "            print(\"Minibatch loss at step %d: %f\" % (step, l))\n",
    "            print(\"Minibatch accuracy: %.1f%%\" % accuracy(predictions, batch_labels))\n",
    "            print(\"Validation accuracy: %.1f%%\" % accuracy(valid_prediction.eval(), valid_labels))\n",
    "            print(\"Test accuracy: %.1f%%\" % accuracy(test_prediction.eval(), test_labels))"
   ]
  },
  {
   "cell_type": "code",
   "execution_count": null,
   "metadata": {
    "collapsed": false
   },
   "outputs": [],
   "source": [
    "batch_size = 512\n",
    "num_hidden = 1024\n",
    "\n",
    "nnGraph = tf.Graph()\n",
    "with nnGraph.as_default():\n",
    "\n",
    "    # input data\n",
    "    tf_test_dataset = tf.constant(test_dataset)\n",
    "    tf_valid_dataset = tf.constant(valid_dataset)    \n",
    "    tf_train_labels = tf.placeholder(tf.float32,shape=(batch_size,num_labels))\n",
    "    tf_hidden_units = tf.placeholder(tf.float32,shape=(batch_size,image_size*image_size))\n",
    "    tf_train_dataset = tf.placeholder(tf.float32,shape=(batch_size,image_size*image_size))\n",
    "    \n",
    "    # variables.\n",
    "    biases1 = tf.Variable(tf.zeros([num_hidden]))\n",
    "    biases2 = tf.Variable(tf.zeros([num_labels]))\n",
    "    weights1 = tf.Variable(tf.truncated_normal([image_size*image_size,num_hidden]))\n",
    "    weights2 = tf.Variable(tf.truncated_normal([num_hidden,num_labels]))\n",
    "    \n",
    "    # regularization constants\n",
    "    beta1 = tf.constant(5e-3)\n",
    "    beta2 = tf.constant(5e-3)\n",
    "    \n",
    "    # training computation.\n",
    "    tf_hidden_units = tf.nn.relu(tf.matmul(tf_train_dataset, weights1)+biases1)\n",
    "    \n",
    "    logits = tf.matmul(tf_hidden_units, weights2)+biases2\n",
    "    loss = tf.reduce_mean(tf.nn.softmax_cross_entropy_with_logits(logits,tf_train_labels)) \\\n",
    "           + beta1*tf.nn.l2_loss(weights1) + beta2*tf.nn.l2_loss(weights2)\n",
    "\n",
    "    # Optimizer.\n",
    "    optimizer = tf.train.GradientDescentOptimizer(0.5).minimize(loss)\n",
    "  \n",
    "    # Predictions for the training, validation, and test data.\n",
    "    train_prediction = tf.nn.softmax(logits)\n",
    "    test_prediction = tf.nn.softmax(tf.matmul(tf.nn.relu(tf.matmul(tf_test_dataset,weights1)+biases1),\n",
    "                                              weights2)+biases2)\n",
    "    valid_prediction = tf.nn.softmax(tf.matmul(tf.nn.relu(tf.matmul(tf_valid_dataset,weights1)+biases1),\n",
    "                                               weights2)+biases2)"
   ]
  },
  {
   "cell_type": "code",
   "execution_count": null,
   "metadata": {
    "collapsed": false
   },
   "outputs": [],
   "source": [
    "num_steps = 2001\n",
    "\n",
    "with tf.Session(graph=nnGraph) as session:\n",
    "  \n",
    "    tf.initialize_all_variables().run()\n",
    "    print(\"Initialized\")\n",
    "  \n",
    "    for step in range(num_steps):\n",
    "        # Pick an offset within the training data, which has been randomized.\n",
    "        # Note: we could use better randomization across epochs.\n",
    "        offset = (step*batch_size)%(train_labels.shape[0]-batch_size)\n",
    "    \n",
    "        # Generate a minibatch.\n",
    "        batch_data = train_dataset[offset:(offset+batch_size),:]\n",
    "        batch_labels = train_labels[offset:(offset+batch_size),:]\n",
    "    \n",
    "        # Prepare a dictionary telling the session where to feed the minibatch.\n",
    "        # The key of the dictionary is the placeholder node of the graph to be fed,\n",
    "        # and the value is the numpy array to feed to it.\n",
    "        feed_dict = {tf_train_dataset:batch_data,tf_train_labels:batch_labels}\n",
    "    \n",
    "        _, l, predictions = session.run([optimizer, loss, train_prediction], feed_dict=feed_dict)\n",
    "    \n",
    "        if (step%500 == 0):\n",
    "            print(\"Minibatch loss at step %d: %f\" % (step, l))\n",
    "            print(\"Minibatch accuracy: %.1f%%\" % accuracy(predictions, batch_labels))\n",
    "            print(\"Validation accuracy: %.1f%%\" % accuracy(valid_prediction.eval(), valid_labels))\n",
    "            print(\"Test accuracy: %.1f%%\" % accuracy(test_prediction.eval(), test_labels))"
   ]
  },
  {
   "cell_type": "markdown",
   "metadata": {
    "colab_type": "text",
    "id": "na8xX2yHZzNF"
   },
   "source": [
    "---\n",
    "Problem 2\n",
    "---------\n",
    "Let's demonstrate an extreme case of overfitting. Restrict your training data to just a few batches. What happens?\n",
    "\n",
    "---"
   ]
  },
  {
   "cell_type": "code",
   "execution_count": null,
   "metadata": {
    "collapsed": true
   },
   "outputs": [],
   "source": [
    "batch_size = 64\n",
    "num_hidden = 1024\n",
    "train_subset = 500\n",
    "\n",
    "nnGraph = tf.Graph()\n",
    "with nnGraph.as_default():\n",
    "\n",
    "    # input data\n",
    "    tf_test_dataset = tf.constant(test_dataset)\n",
    "    tf_valid_dataset = tf.constant(valid_dataset)    \n",
    "    tf_train_labels = tf.placeholder(tf.float32,shape=(batch_size,num_labels))\n",
    "    tf_hidden_units = tf.placeholder(tf.float32,shape=(batch_size,image_size*image_size))\n",
    "    tf_train_dataset = tf.placeholder(tf.float32,shape=(batch_size,image_size*image_size))\n",
    "    \n",
    "    # variables.\n",
    "    biases1 = tf.Variable(tf.zeros([num_hidden]))\n",
    "    biases2 = tf.Variable(tf.zeros([num_labels]))\n",
    "    weights1 = tf.Variable(tf.truncated_normal([image_size*image_size,num_hidden]))\n",
    "    weights2 = tf.Variable(tf.truncated_normal([num_hidden,num_labels]))\n",
    "    \n",
    "    # regularization constants\n",
    "    beta1 = tf.constant(0.0)\n",
    "    beta2 = tf.constant(0.0)\n",
    "    \n",
    "    # training computation.\n",
    "    tf_hidden_units = tf.nn.relu(tf.matmul(tf_train_dataset, weights1)+biases1)\n",
    "    \n",
    "    logits = tf.matmul(tf_hidden_units, weights2)+biases2\n",
    "    loss = tf.reduce_mean(tf.nn.softmax_cross_entropy_with_logits(logits,tf_train_labels)) \\\n",
    "           + beta1*tf.nn.l2_loss(weights1) + beta2*tf.nn.l2_loss(weights2)\n",
    "\n",
    "    # Optimizer.\n",
    "    optimizer = tf.train.GradientDescentOptimizer(0.5).minimize(loss)\n",
    "  \n",
    "    # Predictions for the training, validation, and test data.\n",
    "    train_prediction = tf.nn.softmax(logits)\n",
    "    test_prediction = tf.nn.softmax(tf.matmul(tf.nn.relu(tf.matmul(tf_test_dataset,weights1)+biases1),\n",
    "                                              weights2)+biases2)\n",
    "    valid_prediction = tf.nn.softmax(tf.matmul(tf.nn.relu(tf.matmul(tf_valid_dataset,weights1)+biases1),\n",
    "                                               weights2)+biases2)"
   ]
  },
  {
   "cell_type": "code",
   "execution_count": null,
   "metadata": {
    "collapsed": false
   },
   "outputs": [],
   "source": [
    "num_steps = 5001\n",
    "\n",
    "with tf.Session(graph=nnGraph) as session:\n",
    "  \n",
    "    tf.initialize_all_variables().run()\n",
    "    print(\"Initialized\")\n",
    "  \n",
    "    for step in range(num_steps):\n",
    "        # Pick an offset within the training data, which has been randomized.\n",
    "        # Note: we could use better randomization across epochs.\n",
    "        offset = (step*batch_size)%(train_subset-batch_size)\n",
    "    \n",
    "        # Generate a minibatch.\n",
    "        batch_data = train_dataset[offset:(offset+batch_size),:]\n",
    "        batch_labels = train_labels[offset:(offset+batch_size),:]\n",
    "    \n",
    "        # Prepare a dictionary telling the session where to feed the minibatch.\n",
    "        # The key of the dictionary is the placeholder node of the graph to be fed,\n",
    "        # and the value is the numpy array to feed to it.\n",
    "        feed_dict = {tf_train_dataset:batch_data,tf_train_labels:batch_labels}\n",
    "    \n",
    "        _, l, predictions = session.run([optimizer, loss, train_prediction], feed_dict=feed_dict)\n",
    "    \n",
    "        if (step%500 == 0):\n",
    "            print(\"Minibatch loss at step %d: %f\" % (step, l))\n",
    "            print(\"Minibatch accuracy: %.1f%%\" % accuracy(predictions, batch_labels))\n",
    "            print(\"Validation accuracy: %.1f%%\" % accuracy(valid_prediction.eval(), valid_labels))\n",
    "            print(\"Test accuracy: %.1f%%\" % accuracy(test_prediction.eval(), test_labels))"
   ]
  },
  {
   "cell_type": "markdown",
   "metadata": {
    "colab_type": "text",
    "id": "ww3SCBUdlkRc"
   },
   "source": [
    "---\n",
    "Problem 3\n",
    "---------\n",
    "Introduce Dropout on the hidden layer of the neural network. Remember: Dropout should only be introduced during training, not evaluation, otherwise your evaluation results would be stochastic as well. TensorFlow provides `nn.dropout()` for that, but you have to make sure it's only inserted during training.\n",
    "\n",
    "What happens to our extreme overfitting case?\n",
    "\n",
    "---"
   ]
  },
  {
   "cell_type": "code",
   "execution_count": null,
   "metadata": {
    "collapsed": false
   },
   "outputs": [],
   "source": [
    "batch_size = 64\n",
    "num_hidden = 1024\n",
    "train_subset = 500\n",
    "\n",
    "nnGraph = tf.Graph()\n",
    "with nnGraph.as_default():\n",
    "\n",
    "    # input data\n",
    "    tf_test_dataset = tf.constant(test_dataset)\n",
    "    tf_valid_dataset = tf.constant(valid_dataset)    \n",
    "    tf_train_labels = tf.placeholder(tf.float32,shape=(batch_size,num_labels))\n",
    "    tf_hidden_units = tf.placeholder(tf.float32,shape=(batch_size,image_size*image_size))\n",
    "    tf_train_dataset = tf.placeholder(tf.float32,shape=(batch_size,image_size*image_size))\n",
    "    \n",
    "    # variables.\n",
    "    biases1 = tf.Variable(tf.zeros([num_hidden]))\n",
    "    biases2 = tf.Variable(tf.zeros([num_labels]))\n",
    "    weights1 = tf.Variable(tf.truncated_normal([image_size*image_size,num_hidden]))\n",
    "    weights2 = tf.Variable(tf.truncated_normal([num_hidden,num_labels]))\n",
    "    \n",
    "    # regularization constants\n",
    "    beta1 = tf.constant(0.0)\n",
    "    beta2 = tf.constant(0.0)\n",
    "    \n",
    "    # dropout constant\n",
    "    keep_prob = tf.constant(0.5)\n",
    "    \n",
    "    # training computation.\n",
    "    tf_hidden_units = tf.nn.dropout(tf.nn.relu(tf.matmul(tf_train_dataset, weights1)+biases1),keep_prob)\n",
    "    \n",
    "    logits = tf.matmul(tf_hidden_units, weights2)+biases2\n",
    "    loss = tf.reduce_mean(tf.nn.softmax_cross_entropy_with_logits(logits,tf_train_labels)) \\\n",
    "           + beta1*tf.nn.l2_loss(weights1) + beta2*tf.nn.l2_loss(weights2)\n",
    "\n",
    "    # Optimizer.\n",
    "    optimizer = tf.train.GradientDescentOptimizer(0.5).minimize(loss)\n",
    "  \n",
    "    # Predictions for the training, validation, and test data.\n",
    "    train_prediction = tf.nn.softmax(logits)\n",
    "    test_prediction = tf.nn.softmax(tf.matmul(tf.nn.relu(tf.matmul(tf_test_dataset,weights1)+biases1),\n",
    "                                              weights2)+biases2)\n",
    "    valid_prediction = tf.nn.softmax(tf.matmul(tf.nn.relu(tf.matmul(tf_valid_dataset,weights1)+biases1),\n",
    "                                               weights2)+biases2)"
   ]
  },
  {
   "cell_type": "code",
   "execution_count": null,
   "metadata": {
    "collapsed": false
   },
   "outputs": [],
   "source": [
    "num_steps = 5001\n",
    "\n",
    "with tf.Session(graph=nnGraph) as session:\n",
    "  \n",
    "    tf.initialize_all_variables().run()\n",
    "    print(\"Initialized\")\n",
    "  \n",
    "    for step in range(num_steps):\n",
    "        # Pick an offset within the training data, which has been randomized.\n",
    "        # Note: we could use better randomization across epochs.\n",
    "        offset = (step*batch_size)%(train_subset-batch_size)\n",
    "    \n",
    "        # Generate a minibatch.\n",
    "        batch_data = train_dataset[offset:(offset+batch_size),:]\n",
    "        batch_labels = train_labels[offset:(offset+batch_size),:]\n",
    "    \n",
    "        # Prepare a dictionary telling the session where to feed the minibatch.\n",
    "        # The key of the dictionary is the placeholder node of the graph to be fed,\n",
    "        # and the value is the numpy array to feed to it.\n",
    "        feed_dict = {tf_train_dataset:batch_data,tf_train_labels:batch_labels}\n",
    "    \n",
    "        _, l, predictions = session.run([optimizer, loss, train_prediction], feed_dict=feed_dict)\n",
    "    \n",
    "        if (step%500 == 0):\n",
    "            print(\"Minibatch loss at step %d: %f\" % (step, l))\n",
    "            print(\"Minibatch accuracy: %.1f%%\" % accuracy(predictions, batch_labels))\n",
    "            print(\"Validation accuracy: %.1f%%\" % accuracy(valid_prediction.eval(), valid_labels))\n",
    "            print(\"Test accuracy: %.1f%%\" % accuracy(test_prediction.eval(), test_labels))"
   ]
  },
  {
   "cell_type": "markdown",
   "metadata": {
    "colab_type": "text",
    "id": "-b1hTz3VWZjw"
   },
   "source": [
    "---\n",
    "Problem 4\n",
    "---------\n",
    "\n",
    "Try to get the best performance you can using a multi-layer model! The best reported test accuracy using a deep network is [97.1%](http://yaroslavvb.blogspot.com/2011/09/notmnist-dataset.html?showComment=1391023266211#c8758720086795711595).\n",
    "\n",
    "One avenue you can explore is to add multiple layers.\n",
    "\n",
    "Another one is to use learning rate decay:\n",
    "\n",
    "    global_step = tf.Variable(0)  # count the number of steps taken.\n",
    "    learning_rate = tf.train.exponential_decay(0.5, global_step, ...)\n",
    "    optimizer = tf.train.GradientDescentOptimizer(learning_rate).minimize(loss, global_step=global_step)\n",
    " \n",
    " ---\n"
   ]
  },
  {
   "cell_type": "code",
   "execution_count": 10,
   "metadata": {
    "collapsed": false
   },
   "outputs": [],
   "source": [
    "batch_size = 256\n",
    "train_subset = train_labels.shape[0]\n",
    "\n",
    "num_hidden_1 = 1024\n",
    "num_hidden_2 = 256\n",
    "num_hidden_3 = 64\n",
    "\n",
    "num_steps = 6001\n",
    "\n",
    "keep_prob = 0.6\n",
    "reg_constant = 1e-4\n",
    "update_steps = 100\n",
    "update_exponent = 0.96\n",
    "initial_learning_rate = 5e-3\n",
    "weight_dev = np.sqrt(1.0/train_subset)\n",
    "\n",
    "dnnGraph = tf.Graph()\n",
    "with dnnGraph.as_default():\n",
    "\n",
    "    # input data\n",
    "    tf_test_dataset = tf.constant(test_dataset)\n",
    "    tf_valid_dataset = tf.constant(valid_dataset)    \n",
    "    tf_train_labels = tf.placeholder(tf.float32,shape=(batch_size,num_labels))\n",
    "    tf_train_dataset = tf.placeholder(tf.float32,shape=(batch_size,image_size*image_size))\n",
    "    \n",
    "    tf_hidden_units_1 = tf.placeholder(tf.float32,shape=(batch_size,num_hidden_1))\n",
    "    tf_hidden_units_2 = tf.placeholder(tf.float32,shape=(batch_size,num_hidden_2))\n",
    "    tf_hidden_units_3 = tf.placeholder(tf.float32,shape=(batch_size,num_hidden_3))\n",
    "    \n",
    "    # variables.\n",
    "    biases1 = tf.Variable(tf.zeros([num_hidden_1]))\n",
    "    biases2 = tf.Variable(tf.zeros([num_hidden_2]))\n",
    "    biases3 = tf.Variable(tf.zeros([num_hidden_3]))\n",
    "    biases4 = tf.Variable(tf.zeros([num_labels]))\n",
    "    \n",
    "    weights1 = tf.Variable(tf.truncated_normal([image_size*image_size,num_hidden_1],stddev=weight_dev))\n",
    "    weights2 = tf.Variable(tf.truncated_normal([num_hidden_1,num_hidden_2],stddev=weight_dev))\n",
    "    weights3 = tf.Variable(tf.truncated_normal([num_hidden_2,num_hidden_3],stddev=weight_dev))\n",
    "    weights4 = tf.Variable(tf.truncated_normal([num_hidden_3,num_labels],stddev=weight_dev))\n",
    "    \n",
    "    # regularization constants\n",
    "    beta = tf.constant(reg_constant)\n",
    "    \n",
    "    # dropout constant\n",
    "    keep_prob_1 = tf.constant(keep_prob)\n",
    "    keep_prob_2 = tf.constant(keep_prob)\n",
    "    keep_prob_3 = tf.constant(keep_prob)\n",
    "    \n",
    "    # training computation.\n",
    "    def forwardPropwithDrop(data):\n",
    "        tf_hidden_units_1 = tf.nn.dropout(tf.nn.relu(tf.matmul(data,weights1)+biases1),keep_prob_1)\n",
    "        tf_hidden_units_2 = tf.nn.dropout(tf.nn.relu(tf.matmul(tf_hidden_units_1,weights2)+biases2),keep_prob_2)\n",
    "        tf_hidden_units_3 = tf.nn.dropout(tf.nn.relu(tf.matmul(tf_hidden_units_2,weights3)+biases3),keep_prob_3)\n",
    "        logits = tf.matmul(tf_hidden_units_3, weights4)+biases4\n",
    "        return logits\n",
    "    \n",
    "    def forwardPropwithoutDrop(data):\n",
    "        tf_hidden_units_1 = tf.nn.relu(tf.matmul(data,weights1)+biases1)\n",
    "        tf_hidden_units_2 = tf.nn.relu(tf.matmul(tf_hidden_units_1,weights2)+biases2)\n",
    "        tf_hidden_units_3 = tf.nn.relu(tf.matmul(tf_hidden_units_2,weights3)+biases3)\n",
    "        logits = tf.matmul(tf_hidden_units_3, weights4)+biases4\n",
    "        return logits\n",
    "    \n",
    "    logits = forwardPropwithDrop(tf_train_dataset)\n",
    "    loss = tf.reduce_mean(tf.nn.softmax_cross_entropy_with_logits(logits,tf_train_labels)) \\\n",
    "           + beta*(tf.nn.l2_loss(weights1) + tf.nn.l2_loss(weights2) + \n",
    "                   tf.nn.l2_loss(weights3) + tf.nn.l2_loss(weights4))\n",
    "\n",
    "    # optimizer\n",
    "    global_step = tf.Variable(0)\n",
    "    learning_rate = tf.train.exponential_decay(initial_learning_rate,global_step,update_steps,update_exponent)\n",
    "    optimizer = tf.train.AdamOptimizer(learning_rate).minimize(loss,global_step=global_step)\n",
    "\n",
    "    # Predictions for the training, validation, and test data.\n",
    "    test_prediction = tf.nn.softmax(forwardPropwithoutDrop(tf_test_dataset))\n",
    "    valid_prediction = tf.nn.softmax(forwardPropwithoutDrop(tf_valid_dataset))\n",
    "    train_prediction = tf.nn.softmax(forwardPropwithoutDrop(tf_train_dataset))"
   ]
  },
  {
   "cell_type": "code",
   "execution_count": 11,
   "metadata": {
    "collapsed": false
   },
   "outputs": [
    {
     "name": "stdout",
     "output_type": "stream",
     "text": [
      "Initialized\n",
      "Minibatch loss at step 0: 2.302793\n",
      "Minibatch accuracy: 8.6%\n",
      "Validation accuracy: 10.0%\n",
      "Test accuracy: 10.0%\n",
      "Minibatch loss at step 500: 0.784935\n",
      "Minibatch accuracy: 85.2%\n",
      "Validation accuracy: 84.0%\n",
      "Test accuracy: 90.7%\n",
      "Minibatch loss at step 1000: 0.718567\n",
      "Minibatch accuracy: 87.9%\n",
      "Validation accuracy: 85.0%\n",
      "Test accuracy: 91.7%\n",
      "Minibatch loss at step 1500: 0.822501\n",
      "Minibatch accuracy: 81.2%\n",
      "Validation accuracy: 85.6%\n",
      "Test accuracy: 92.1%\n",
      "Minibatch loss at step 2000: 0.614500\n",
      "Minibatch accuracy: 88.7%\n",
      "Validation accuracy: 86.6%\n",
      "Test accuracy: 93.0%\n",
      "Minibatch loss at step 2500: 0.614678\n",
      "Minibatch accuracy: 87.9%\n",
      "Validation accuracy: 87.4%\n",
      "Test accuracy: 93.2%\n",
      "Minibatch loss at step 3000: 0.498935\n",
      "Minibatch accuracy: 91.8%\n",
      "Validation accuracy: 87.6%\n",
      "Test accuracy: 93.4%\n",
      "Minibatch loss at step 3500: 0.598716\n",
      "Minibatch accuracy: 87.5%\n",
      "Validation accuracy: 88.2%\n",
      "Test accuracy: 93.9%\n",
      "Minibatch loss at step 4000: 0.652148\n",
      "Minibatch accuracy: 85.9%\n",
      "Validation accuracy: 88.6%\n",
      "Test accuracy: 94.3%\n",
      "Minibatch loss at step 4500: 0.549724\n",
      "Minibatch accuracy: 87.9%\n",
      "Validation accuracy: 88.9%\n",
      "Test accuracy: 94.7%\n",
      "Minibatch loss at step 5000: 0.472332\n",
      "Minibatch accuracy: 91.8%\n",
      "Validation accuracy: 89.2%\n",
      "Test accuracy: 94.7%\n",
      "Minibatch loss at step 5500: 0.459466\n",
      "Minibatch accuracy: 90.2%\n",
      "Validation accuracy: 89.3%\n",
      "Test accuracy: 94.9%\n",
      "Minibatch loss at step 6000: 0.456848\n",
      "Minibatch accuracy: 91.0%\n",
      "Validation accuracy: 89.6%\n",
      "Test accuracy: 95.0%\n"
     ]
    }
   ],
   "source": [
    "with tf.Session(graph=dnnGraph) as session:\n",
    "  \n",
    "    tf.initialize_all_variables().run()\n",
    "    print(\"Initialized\")\n",
    "  \n",
    "    for step in range(num_steps):\n",
    "        # Pick an offset within the training data, which has been randomized.\n",
    "        # Note: we could use better randomization across epochs.\n",
    "        offset = (step*batch_size)%(train_subset-batch_size)\n",
    "    \n",
    "        # Generate a minibatch.\n",
    "        batch_data = train_dataset[offset:(offset+batch_size),:]\n",
    "        batch_labels = train_labels[offset:(offset+batch_size),:]\n",
    "    \n",
    "        # Prepare a dictionary telling the session where to feed the minibatch.\n",
    "        # The key of the dictionary is the placeholder node of the graph to be fed,\n",
    "        # and the value is the numpy array to feed to it.\n",
    "        feed_dict = {tf_train_dataset:batch_data,tf_train_labels:batch_labels}\n",
    "    \n",
    "        _, l, predictions = session.run([optimizer, loss, train_prediction], feed_dict=feed_dict)\n",
    "    \n",
    "        if (step%500 == 0):\n",
    "            print(\"Minibatch loss at step %d: %f\" % (step, l))\n",
    "            print(\"Minibatch accuracy: %.1f%%\" % accuracy(predictions, batch_labels))\n",
    "            print(\"Validation accuracy: %.1f%%\" % accuracy(valid_prediction.eval(), valid_labels))\n",
    "            print(\"Test accuracy: %.1f%%\" % accuracy(test_prediction.eval(), test_labels))"
   ]
  },
  {
   "cell_type": "code",
   "execution_count": null,
   "metadata": {
    "collapsed": true
   },
   "outputs": [],
   "source": []
  }
 ],
 "metadata": {
  "colab": {
   "default_view": {},
   "name": "3_regularization.ipynb",
   "provenance": [],
   "version": "0.3.2",
   "views": {}
  },
  "kernelspec": {
   "display_name": "Python 2",
   "language": "python",
   "name": "python2"
  },
  "language_info": {
   "codemirror_mode": {
    "name": "ipython",
    "version": 2
   },
   "file_extension": ".py",
   "mimetype": "text/x-python",
   "name": "python",
   "nbconvert_exporter": "python",
   "pygments_lexer": "ipython2",
   "version": "2.7.6"
  }
 },
 "nbformat": 4,
 "nbformat_minor": 0
}
